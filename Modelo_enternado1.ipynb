{
  "nbformat": 4,
  "nbformat_minor": 0,
  "metadata": {
    "colab": {
      "provenance": [],
      "authorship_tag": "ABX9TyO3/WsC4plU7ea6Gr60oLrz",
      "include_colab_link": true
    },
    "kernelspec": {
      "name": "python3",
      "display_name": "Python 3"
    },
    "language_info": {
      "name": "python"
    }
  },
  "cells": [
    {
      "cell_type": "markdown",
      "metadata": {
        "id": "view-in-github",
        "colab_type": "text"
      },
      "source": [
        "<a href=\"https://colab.research.google.com/github/Juancruz143/2024UCALCD002/blob/main/Modelo_enternado1.ipynb\" target=\"_parent\"><img src=\"https://colab.research.google.com/assets/colab-badge.svg\" alt=\"Open In Colab\"/></a>"
      ]
    },
    {
      "cell_type": "markdown",
      "source": [
        "1. Importación de librerías y carga del dataset:\n",
        "Comenzaremos importando las librerías necesarias y cargando el dataset de Kaggle. En este caso, utilizaremos el conjunto de datos \"Iris\" que contiene información sobre las características de flores de diferentes especies"
      ],
      "metadata": {
        "id": "5sBehnu0VBcd"
      }
    },
    {
      "cell_type": "code",
      "execution_count": null,
      "metadata": {
        "id": "M0N7Mj3IU_h6"
      },
      "outputs": [],
      "source": [
        "Python\n",
        "import pandas as pd\n",
        "from sklearn.model_selection import train_test_split\n",
        "from sklearn.neighbors import KNeighborsClassifier\n",
        "from sklearn.metrics import accuracy_score\n",
        "import joblib\n",
        "\n",
        "# Python\n",
        "# Carga del dataset Iris de Kaggle\n",
        "url = \"https://archive.ics.uci.edu/ml/machine-learning-databases/iris/iris.data\"\n",
        "df = pd.read_csv(url, names=['sepal_length', 'sepal_width', 'petal_length', 'petal_width', 'species'])"
      ]
    },
    {
      "cell_type": "markdown",
      "source": [
        "2. Preparación de los datos:\n",
        "El dataset debe estar preparado para el entrenamiento del modelo. Esto implica separar las características (atributos) de las etiquetas (clases) y dividir el conjunto de datos en entrenamiento y prueba."
      ],
      "metadata": {
        "id": "a7dxZ59pVKJU"
      }
    },
    {
      "cell_type": "code",
      "source": [
        "# Python\n",
        "# Separación de características y etiquetas\n",
        "X = df[['sepal_length', 'sepal_width', 'petal_length', 'petal_width']]\n",
        "y = df['species']\n",
        "# División del conjunto de datos en entrenamiento y prueba\n",
        "X_train, X_test, y_train, y_test = train_test_split(X, y, test_size=0.2, random_state=42)"
      ],
      "metadata": {
        "id": "00LtGqBHVMn7"
      },
      "execution_count": null,
      "outputs": []
    },
    {
      "cell_type": "markdown",
      "source": [
        "3. Entrenamiento del modelo:\n",
        "Seleccionamos un algoritmo de Machine Learning, en este caso utilizaremos K-Nearest Neighbors (KNN). Creamos una instancia del algoritmo y lo entrenamos con el conjunto de datos de entrenamiento."
      ],
      "metadata": {
        "id": "xVu7DfHEVRok"
      }
    },
    {
      "cell_type": "code",
      "source": [
        "# Python\n",
        "# Creación del modelo KNN\n",
        "knn = KNeighborsClassifier(n_neighbors=5)\n",
        "# Entrenamiento del modelo\n",
        "knn.fit(X_train, y_train)"
      ],
      "metadata": {
        "id": "02FjnqaOVUb0"
      },
      "execution_count": null,
      "outputs": []
    },
    {
      "cell_type": "markdown",
      "source": [
        "4. Evaluación del modelo:\n",
        "Utilizamos el conjunto de datos de prueba para evaluar el rendimiento del modelo entrenado. Calculamos la precisión, que indica el porcentaje de predicciones correctas."
      ],
      "metadata": {
        "id": "B7LVSjVHVq5k"
      }
    },
    {
      "cell_type": "code",
      "source": [
        "# Python\n",
        "# Predicciones sobre el conjunto de datos de prueba\n",
        "y_pred = knn.predict(X_test)\n",
        "# Cálculo de la precisión\n",
        "accuracy = accuracy_score(y_test, y_pred)\n",
        "print(\"Precisión:\", accuracy)\n",
        "# Guardar el modelo entrenado en un archivo\n",
        "joblib.dump(knn, 'knn_model.joblib')"
      ],
      "metadata": {
        "id": "bTuGEHDFVrcs"
      },
      "execution_count": null,
      "outputs": []
    }
  ]
}